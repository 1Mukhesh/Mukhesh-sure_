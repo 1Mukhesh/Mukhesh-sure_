{
 "cells": [
  {
   "cell_type": "code",
   "execution_count": 4,
   "id": "ed884863",
   "metadata": {},
   "outputs": [],
   "source": [
    "import xml.etree.ElementTree as ET\n",
    "import csv\n",
    "\n",
    "# Load the XML file\n",
    "tree = ET.parse('DLTINS_20210117_01of01.xml')\n",
    "root = tree.getroot()\n",
    "\n",
    "# Define the namespace\n",
    "ns = {'ns': 'urn:iso:std:iso:20022:tech:xsd:auth.036.001.02'}\n",
    "\n",
    "# Find all elements with the specified child name\n",
    "elements = root.findall('.//ns:FinInstrmGnlAttrbts', ns)\n",
    "elements1 = root.findall('.//ns:Issr', ns)\n",
    "\n",
    "# Create a new CSV file\n",
    "with open('output.csv', mode='w', newline='') as file:\n",
    "    writer = csv.DictWriter(file, fieldnames=['id', 'FullNm', 'ClssfctnTp', 'CmmdtyDerivInd', 'NtnlCcy', 'Issr'])\n",
    "    writer.writeheader()\n",
    "    \n",
    "    # Loop through the elements and write them to the CSV file\n",
    "    for element in elements:\n",
    "        # Get the child elements and extract their text content\n",
    "        id = element.find('ns:Id', ns).text\n",
    "        FullNm = element.find('ns:FullNm', ns).text\n",
    "        ClssfctnTp = element.find('ns:ClssfctnTp', ns).text\n",
    "        CmmdtyDerivInd = element.find('ns:CmmdtyDerivInd', ns).text\n",
    "        NtnlCcy = element.find('ns:NtnlCcy', ns).text\n",
    "        \n",
    "    for element1 in elements1:\n",
    "        Issr = element1.text\n",
    "            \n",
    "        # Write the content to the CSV file\n",
    "    writer.writerow({'id': id, 'FullNm': FullNm, 'ClssfctnTp': ClssfctnTp, \n",
    "                    'CmmdtyDerivInd': CmmdtyDerivInd, 'NtnlCcy': NtnlCcy, 'Issr': Issr})\n"
   ]
  },
  {
   "cell_type": "code",
   "execution_count": 6,
   "id": "584a396e",
   "metadata": {},
   "outputs": [
    {
     "name": "stdout",
     "output_type": "stream",
     "text": [
      "             id                             FullNm ClssfctnTp  CmmdtyDerivInd  \\\n",
      "0  DE000C42LZJ8  OEMB SI 20210115 PS AM P 112.50 0     OPAIPS           False   \n",
      "\n",
      "  NtnlCcy                  Issr  \n",
      "0     USD  529900UT4DG0LG5R9O07  \n"
     ]
    }
   ],
   "source": [
    "import pandas as pd\n",
    "\n",
    "df = pd.read_csv('output.csv')\n",
    "print(df.head())\n"
   ]
  },
  {
   "cell_type": "code",
   "execution_count": null,
   "id": "114f4ca5",
   "metadata": {},
   "outputs": [],
   "source": []
  }
 ],
 "metadata": {
  "kernelspec": {
   "display_name": "Python 3 (ipykernel)",
   "language": "python",
   "name": "python3"
  },
  "language_info": {
   "codemirror_mode": {
    "name": "ipython",
    "version": 3
   },
   "file_extension": ".py",
   "mimetype": "text/x-python",
   "name": "python",
   "nbconvert_exporter": "python",
   "pygments_lexer": "ipython3",
   "version": "3.9.13"
  }
 },
 "nbformat": 4,
 "nbformat_minor": 5
}
